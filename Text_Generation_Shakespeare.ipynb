{
  "nbformat": 4,
  "nbformat_minor": 0,
  "metadata": {
    "kernelspec": {
      "display_name": "Python 3.8.5 64-bit ('torch': conda)",
      "language": "python",
      "name": "python38564bittorchconda110fdf3d79be458e826cbc7e8f0d6e54"
    },
    "language_info": {
      "codemirror_mode": {
        "name": "ipython",
        "version": 3
      },
      "file_extension": ".py",
      "mimetype": "text/x-python",
      "name": "python",
      "nbconvert_exporter": "python",
      "pygments_lexer": "ipython3",
      "version": "3.8.5"
    },
    "colab": {
      "name": "Text_Generation_Shakespeare.ipynb",
      "provenance": [],
      "include_colab_link": true
    },
    "accelerator": "GPU"
  },
  "cells": [
    {
      "cell_type": "markdown",
      "metadata": {
        "id": "view-in-github",
        "colab_type": "text"
      },
      "source": [
        "<a href=\"https://colab.research.google.com/github/talitmr/VAE_GAN/blob/main/Text_Generation_Shakespeare.ipynb\" target=\"_parent\"><img src=\"https://colab.research.google.com/assets/colab-badge.svg\" alt=\"Open In Colab\"/></a>"
      ]
    },
    {
      "cell_type": "markdown",
      "source": [
        "##Text Generation with Shakespeare\n"
      ],
      "metadata": {
        "id": "-yolMnNgY2_v"
      }
    },
    {
      "cell_type": "markdown",
      "source": [
        "Code is taken from \"https://github.com/albertlai431/Machine-Learning/blob/master/Text%20Generation/Shakespeare.py \" "
      ],
      "metadata": {
        "id": "OiejmxeeYrsq"
      }
    },
    {
      "cell_type": "code",
      "metadata": {
        "id": "dGYHFFBIzYpI"
      },
      "source": [
        "import torch\n",
        "import numpy as np"
      ],
      "execution_count": null,
      "outputs": []
    },
    {
      "cell_type": "code",
      "metadata": {
        "id": "zm83B6wezYpK"
      },
      "source": [
        "# Read the text file\n",
        "with open('input.txt', 'r') as f:\n",
        "    textdata = f.read()"
      ],
      "execution_count": null,
      "outputs": []
    },
    {
      "cell_type": "code",
      "metadata": {
        "colab": {
          "base_uri": "https://localhost:8080/"
        },
        "id": "Gv6abzrXzYpL",
        "outputId": "608e434d-b56a-40a8-b061-4912f4f031ca"
      },
      "source": [
        "# Take a look at the first 300 characters of data\n",
        "print(textdata[:250])"
      ],
      "execution_count": null,
      "outputs": [
        {
          "output_type": "stream",
          "text": [
            "First Citizen:\n",
            "Before we proceed any further, hear me speak.\n",
            "\n",
            "All:\n",
            "Speak, speak.\n",
            "\n",
            "First Citizen:\n",
            "You are all resolved rather to die than to famish?\n",
            "\n",
            "All:\n",
            "Resolved. resolved.\n",
            "\n",
            "First Citizen:\n",
            "First, you know Caius Marcius is chief enemy to the people.\n",
            "\n"
          ],
          "name": "stdout"
        }
      ]
    },
    {
      "cell_type": "code",
      "metadata": {
        "colab": {
          "base_uri": "https://localhost:8080/"
        },
        "id": "VfZnbEBJzYpM",
        "outputId": "1b0200c5-dad9-4754-e57f-ee48f2efa2eb"
      },
      "source": [
        "# Count the unique characters in the text\n",
        "vocabulary = sorted(set(textdata))\n",
        "print(f'{len(vocabulary)} unique characters in the text.')\n",
        "print(vocabulary)"
      ],
      "execution_count": null,
      "outputs": [
        {
          "output_type": "stream",
          "text": [
            "65 unique characters in the text.\n",
            "['\\n', ' ', '!', '$', '&', \"'\", ',', '-', '.', '3', ':', ';', '?', 'A', 'B', 'C', 'D', 'E', 'F', 'G', 'H', 'I', 'J', 'K', 'L', 'M', 'N', 'O', 'P', 'Q', 'R', 'S', 'T', 'U', 'V', 'W', 'X', 'Y', 'Z', 'a', 'b', 'c', 'd', 'e', 'f', 'g', 'h', 'i', 'j', 'k', 'l', 'm', 'n', 'o', 'p', 'q', 'r', 's', 't', 'u', 'v', 'w', 'x', 'y', 'z']\n"
          ],
          "name": "stdout"
        }
      ]
    },
    {
      "cell_type": "code",
      "metadata": {
        "id": "AV26egOqzYpN"
      },
      "source": [
        "# Create a dictionary that maps each character to a unique integer\n",
        "char2int = {char:integer for integer, char in enumerate(vocabulary)}\n",
        "int2char = np.array(vocabulary)\n",
        "\n",
        "text_as_int = np.array([char2int[c] for c in textdata])"
      ],
      "execution_count": null,
      "outputs": []
    },
    {
      "cell_type": "code",
      "metadata": {
        "colab": {
          "base_uri": "https://localhost:8080/"
        },
        "id": "n4WiRuABzYpN",
        "outputId": "36ac408e-df60-4825-e7bf-5a993e9d4315"
      },
      "source": [
        "#Take a look at each character and its encoding.\n",
        "\n",
        "# Since the first two characters in the list are newline and space characters,\n",
        "# it prints as newline (\\n) and space ( ) characters, respectively.\n",
        "\n",
        "\n",
        "for key in char2int:\n",
        "    print(f'Character: {repr(key):1}  --- Encoding: {char2int[key]}') "
      ],
      "execution_count": null,
      "outputs": [
        {
          "output_type": "stream",
          "text": [
            "Character: '\\n'  --- Encoding: 0\n",
            "Character: ' '  --- Encoding: 1\n",
            "Character: '!'  --- Encoding: 2\n",
            "Character: '$'  --- Encoding: 3\n",
            "Character: '&'  --- Encoding: 4\n",
            "Character: \"'\"  --- Encoding: 5\n",
            "Character: ','  --- Encoding: 6\n",
            "Character: '-'  --- Encoding: 7\n",
            "Character: '.'  --- Encoding: 8\n",
            "Character: '3'  --- Encoding: 9\n",
            "Character: ':'  --- Encoding: 10\n",
            "Character: ';'  --- Encoding: 11\n",
            "Character: '?'  --- Encoding: 12\n",
            "Character: 'A'  --- Encoding: 13\n",
            "Character: 'B'  --- Encoding: 14\n",
            "Character: 'C'  --- Encoding: 15\n",
            "Character: 'D'  --- Encoding: 16\n",
            "Character: 'E'  --- Encoding: 17\n",
            "Character: 'F'  --- Encoding: 18\n",
            "Character: 'G'  --- Encoding: 19\n",
            "Character: 'H'  --- Encoding: 20\n",
            "Character: 'I'  --- Encoding: 21\n",
            "Character: 'J'  --- Encoding: 22\n",
            "Character: 'K'  --- Encoding: 23\n",
            "Character: 'L'  --- Encoding: 24\n",
            "Character: 'M'  --- Encoding: 25\n",
            "Character: 'N'  --- Encoding: 26\n",
            "Character: 'O'  --- Encoding: 27\n",
            "Character: 'P'  --- Encoding: 28\n",
            "Character: 'Q'  --- Encoding: 29\n",
            "Character: 'R'  --- Encoding: 30\n",
            "Character: 'S'  --- Encoding: 31\n",
            "Character: 'T'  --- Encoding: 32\n",
            "Character: 'U'  --- Encoding: 33\n",
            "Character: 'V'  --- Encoding: 34\n",
            "Character: 'W'  --- Encoding: 35\n",
            "Character: 'X'  --- Encoding: 36\n",
            "Character: 'Y'  --- Encoding: 37\n",
            "Character: 'Z'  --- Encoding: 38\n",
            "Character: 'a'  --- Encoding: 39\n",
            "Character: 'b'  --- Encoding: 40\n",
            "Character: 'c'  --- Encoding: 41\n",
            "Character: 'd'  --- Encoding: 42\n",
            "Character: 'e'  --- Encoding: 43\n",
            "Character: 'f'  --- Encoding: 44\n",
            "Character: 'g'  --- Encoding: 45\n",
            "Character: 'h'  --- Encoding: 46\n",
            "Character: 'i'  --- Encoding: 47\n",
            "Character: 'j'  --- Encoding: 48\n",
            "Character: 'k'  --- Encoding: 49\n",
            "Character: 'l'  --- Encoding: 50\n",
            "Character: 'm'  --- Encoding: 51\n",
            "Character: 'n'  --- Encoding: 52\n",
            "Character: 'o'  --- Encoding: 53\n",
            "Character: 'p'  --- Encoding: 54\n",
            "Character: 'q'  --- Encoding: 55\n",
            "Character: 'r'  --- Encoding: 56\n",
            "Character: 's'  --- Encoding: 57\n",
            "Character: 't'  --- Encoding: 58\n",
            "Character: 'u'  --- Encoding: 59\n",
            "Character: 'v'  --- Encoding: 60\n",
            "Character: 'w'  --- Encoding: 61\n",
            "Character: 'x'  --- Encoding: 62\n",
            "Character: 'y'  --- Encoding: 63\n",
            "Character: 'z'  --- Encoding: 64\n"
          ],
          "name": "stdout"
        }
      ]
    },
    {
      "cell_type": "code",
      "metadata": {
        "colab": {
          "base_uri": "https://localhost:8080/"
        },
        "id": "SUXNeEipzYpN",
        "outputId": "f6bf2069-c5d6-4803-f029-d0cbee823d8e"
      },
      "source": [
        "# Take a look at the first 24 raw characters of the text and its encoding\n",
        "print('Raw text: {} \\n\\n Encoded text:  {}'.format(repr(textdata[:24]), text_as_int[:24]))"
      ],
      "execution_count": null,
      "outputs": [
        {
          "output_type": "stream",
          "text": [
            "Raw text: 'First Citizen:\\nBefore we' \n",
            "\n",
            " Encoded text:  [18 47 56 57 58  1 15 47 58 47 64 43 52 10  0 14 43 44 53 56 43  1 61 43]\n"
          ],
          "name": "stdout"
        }
      ]
    },
    {
      "cell_type": "code",
      "metadata": {
        "id": "R8HFIrYpzYpO"
      },
      "source": [
        "def one_hot_encode(integers):\n",
        "    '''\n",
        "    one-hot encoding of integers\n",
        "    '''\n",
        "    one_hot =  np.zeros(shape=(len(text_as_int), 65)) # we have 65 unique characters\n",
        "    one_hot[np.arange(len(text_as_int)), text_as_int] =  1\n",
        "    return one_hot"
      ],
      "execution_count": null,
      "outputs": []
    },
    {
      "cell_type": "code",
      "metadata": {
        "colab": {
          "base_uri": "https://localhost:8080/"
        },
        "id": "IezOeMV_zYpO",
        "outputId": "3a823585-2e20-4a39-da29-d82910254f87"
      },
      "source": [
        "text_as_one_hot = one_hot_encode(text_as_int)\n",
        "print(text_as_one_hot.shape)"
      ],
      "execution_count": null,
      "outputs": [
        {
          "output_type": "stream",
          "text": [
            "(1115394, 65)\n"
          ],
          "name": "stdout"
        }
      ]
    },
    {
      "cell_type": "code",
      "metadata": {
        "colab": {
          "base_uri": "https://localhost:8080/"
        },
        "id": "cIeNJ6WnzYpP",
        "outputId": "5de63178-f590-49e9-faa5-09bdeea76869"
      },
      "source": [
        "# Print first 5 characters one-hot encoded\n",
        "for n in range(5):\n",
        "    print(text_as_one_hot[n])\n",
        "    print('---')"
      ],
      "execution_count": null,
      "outputs": [
        {
          "output_type": "stream",
          "text": [
            "[0. 0. 0. 0. 0. 0. 0. 0. 0. 0. 0. 0. 0. 0. 0. 0. 0. 0. 1. 0. 0. 0. 0. 0.\n",
            " 0. 0. 0. 0. 0. 0. 0. 0. 0. 0. 0. 0. 0. 0. 0. 0. 0. 0. 0. 0. 0. 0. 0. 0.\n",
            " 0. 0. 0. 0. 0. 0. 0. 0. 0. 0. 0. 0. 0. 0. 0. 0. 0.]\n",
            "---\n",
            "[0. 0. 0. 0. 0. 0. 0. 0. 0. 0. 0. 0. 0. 0. 0. 0. 0. 0. 0. 0. 0. 0. 0. 0.\n",
            " 0. 0. 0. 0. 0. 0. 0. 0. 0. 0. 0. 0. 0. 0. 0. 0. 0. 0. 0. 0. 0. 0. 0. 1.\n",
            " 0. 0. 0. 0. 0. 0. 0. 0. 0. 0. 0. 0. 0. 0. 0. 0. 0.]\n",
            "---\n",
            "[0. 0. 0. 0. 0. 0. 0. 0. 0. 0. 0. 0. 0. 0. 0. 0. 0. 0. 0. 0. 0. 0. 0. 0.\n",
            " 0. 0. 0. 0. 0. 0. 0. 0. 0. 0. 0. 0. 0. 0. 0. 0. 0. 0. 0. 0. 0. 0. 0. 0.\n",
            " 0. 0. 0. 0. 0. 0. 0. 0. 1. 0. 0. 0. 0. 0. 0. 0. 0.]\n",
            "---\n",
            "[0. 0. 0. 0. 0. 0. 0. 0. 0. 0. 0. 0. 0. 0. 0. 0. 0. 0. 0. 0. 0. 0. 0. 0.\n",
            " 0. 0. 0. 0. 0. 0. 0. 0. 0. 0. 0. 0. 0. 0. 0. 0. 0. 0. 0. 0. 0. 0. 0. 0.\n",
            " 0. 0. 0. 0. 0. 0. 0. 0. 0. 1. 0. 0. 0. 0. 0. 0. 0.]\n",
            "---\n",
            "[0. 0. 0. 0. 0. 0. 0. 0. 0. 0. 0. 0. 0. 0. 0. 0. 0. 0. 0. 0. 0. 0. 0. 0.\n",
            " 0. 0. 0. 0. 0. 0. 0. 0. 0. 0. 0. 0. 0. 0. 0. 0. 0. 0. 0. 0. 0. 0. 0. 0.\n",
            " 0. 0. 0. 0. 0. 0. 0. 0. 0. 0. 1. 0. 0. 0. 0. 0. 0.]\n",
            "---\n"
          ],
          "name": "stdout"
        }
      ]
    },
    {
      "cell_type": "code",
      "metadata": {
        "colab": {
          "base_uri": "https://localhost:8080/"
        },
        "id": "q0Z0En3nzYpP",
        "outputId": "0887390a-a6ba-4e89-8fd6-4276f418d7b5"
      },
      "source": [
        "# Importing libraries\n",
        "import numpy as np\n",
        "import torch\n",
        "from torch import nn\n",
        "import torch.nn.functional as F\n",
        "\n",
        "# Open shakespeare text file and read in data as `text`\n",
        "with open('input.txt', 'r') as f:\n",
        "    text = f.read()\n",
        "\n",
        "# Showing the first 100 characters\n",
        "text[:120]\n",
        "\n",
        "# encoding the text and map each character to an integer and vice versa\n",
        "\n",
        "# We create two dictionaries:\n",
        "# 1. int2char, which maps integers to characters\n",
        "# 2. char2int, which maps characters to integers\n",
        "chars = tuple(set(text))\n",
        "int2char = dict(enumerate(chars))\n",
        "char2int = {ch: ii for ii, ch in int2char.items()}\n",
        "\n",
        "# Encode the text\n",
        "encoded = np.array([char2int[ch] for ch in text])\n",
        "\n",
        "# Showing the first 100 encoded characters\n",
        "encoded[:120]\n",
        "\n",
        "# Defining method to encode one hot labels\n",
        "def one_hot_encode(arr, n_labels):\n",
        "    \n",
        "    # Initialize the the encoded array\n",
        "    one_hot = np.zeros((np.multiply(*arr.shape), n_labels), dtype=np.float32)\n",
        "    \n",
        "    # Fill the appropriate elements with ones\n",
        "    one_hot[np.arange(one_hot.shape[0]), arr.flatten()] = 1.\n",
        "    \n",
        "    # Finally reshape it to get back to the original array\n",
        "    one_hot = one_hot.reshape((*arr.shape, n_labels))\n",
        "    \n",
        "    return one_hot\n",
        "    \n",
        "# Defining method to make mini-batches for training\n",
        "def get_batches(arr, batch_size, seq_length):\n",
        "    '''Create a generator that returns batches of size\n",
        "       batch_size x seq_length from arr.\n",
        "       \n",
        "       Arguments\n",
        "       ---------\n",
        "       arr: Array you want to make batches from\n",
        "       batch_size: Batch size, the number of sequences per batch\n",
        "       seq_length: Number of encoded chars in a sequence\n",
        "    '''\n",
        "    \n",
        "    batch_size_total = batch_size * seq_length\n",
        "    # total number of batches we can make\n",
        "    n_batches = len(arr)//batch_size_total\n",
        "    \n",
        "    # Keep only enough characters to make full batches\n",
        "    arr = arr[:n_batches * batch_size_total]\n",
        "    # Reshape into batch_size rows\n",
        "    arr = arr.reshape((batch_size, -1))\n",
        "    \n",
        "    # iterate through the array, one sequence at a time\n",
        "    for n in range(0, arr.shape[1], seq_length):\n",
        "        # The features\n",
        "        x = arr[:, n:n+seq_length]\n",
        "        # The targets, shifted by one\n",
        "        y = np.zeros_like(x)\n",
        "        try:\n",
        "            y[:, :-1], y[:, -1] = x[:, 1:], arr[:, n+seq_length]\n",
        "        except IndexError:\n",
        "            y[:, :-1], y[:, -1] = x[:, 1:], arr[:, 0]\n",
        "        yield x, y\n",
        "\n",
        "# Check if GPU is available\n",
        "train_on_gpu = torch.cuda.is_available()\n",
        "if(train_on_gpu):\n",
        "    print('Training on GPU!')\n",
        "else: \n",
        "    print('No GPU available, training on CPU; consider making n_epochs very small.')\n",
        "    \n",
        "# Declaring the model\n",
        "class CharRNN(nn.Module):\n",
        "    \n",
        "    def __init__(self, tokens, n_hidden=256, n_layers=2,\n",
        "                               drop_prob=0.3, lr=0.002):\n",
        "        super().__init__()\n",
        "        self.drop_prob = drop_prob\n",
        "        self.n_layers = n_layers\n",
        "        self.n_hidden = n_hidden\n",
        "        self.lr = lr\n",
        "        \n",
        "        # creating character dictionaries\n",
        "        self.chars = tokens\n",
        "        self.int2char = dict(enumerate(self.chars))\n",
        "        self.char2int = {ch: ii for ii, ch in self.int2char.items()}\n",
        "        \n",
        "        #define the LSTM\n",
        "        self.lstm = nn.LSTM(len(self.chars), n_hidden, n_layers, \n",
        "                            dropout=drop_prob, batch_first=True)\n",
        "        \n",
        "        #define a dropout layer\n",
        "        self.dropout = nn.Dropout(drop_prob)\n",
        "        \n",
        "        #define the final, fully-connected output layer\n",
        "        self.fc = nn.Linear(n_hidden, len(self.chars))\n",
        "      \n",
        "    \n",
        "    def forward(self, x, hidden):\n",
        "        ''' Forward pass through the network. \n",
        "            These inputs are x, and the hidden/cell state `hidden`. '''\n",
        "                \n",
        "        #get the outputs and the new hidden state from the lstm\n",
        "        r_output, hidden = self.lstm(x, hidden)\n",
        "        \n",
        "        #pass through a dropout layer\n",
        "        out = self.dropout(r_output)\n",
        "        \n",
        "        # Stack up LSTM outputs using view\n",
        "        out = out.contiguous().view(-1, self.n_hidden)\n",
        "        \n",
        "        #put x through the fully-connected layer\n",
        "        out = self.fc(out)\n",
        "        \n",
        "        # return the final output and the hidden state\n",
        "        return out, hidden\n",
        "    \n",
        "    \n",
        "    def init_hidden(self, batch_size):\n",
        "        ''' Initializes hidden state '''\n",
        "        # Create two new tensors with sizes n_layers x batch_size x n_hidden,\n",
        "        # initialized to zero, for hidden state and cell state of LSTM\n",
        "        weight = next(self.parameters()).data\n",
        "        \n",
        "        if (train_on_gpu):\n",
        "            hidden = (weight.new(self.n_layers, batch_size, self.n_hidden).zero_().cuda(),\n",
        "                  weight.new(self.n_layers, batch_size, self.n_hidden).zero_().cuda())\n",
        "        else:\n",
        "            hidden = (weight.new(self.n_layers, batch_size, self.n_hidden).zero_(),\n",
        "                      weight.new(self.n_layers, batch_size, self.n_hidden).zero_())\n",
        "        \n",
        "        return hidden\n",
        "       \n",
        "# Declaring the train method\n",
        "def train(net, data, epochs=10, batch_size=10, seq_length=50, lr=0.002, clip=5, val_frac=0.1, print_every=10):\n",
        "    ''' Training a network \n",
        "    \n",
        "        Arguments\n",
        "        ---------\n",
        "        \n",
        "        net: CharRNN network\n",
        "        data: text data to train the network\n",
        "        epochs: Number of epochs to train\n",
        "        batch_size: Number of mini-sequences per mini-batch, aka batch size\n",
        "        seq_length: Number of character steps per mini-batch\n",
        "        lr: learning rate\n",
        "        clip: gradient clipping\n",
        "        val_frac: Fraction of data to hold out for validation\n",
        "        print_every: Number of steps for printing training and validation loss\n",
        "    \n",
        "    '''\n",
        "    net.train()\n",
        "    \n",
        "    opt = torch.optim.Adamax(net.parameters(), lr=lr)\n",
        "    criterion = nn.CrossEntropyLoss()\n",
        "    \n",
        "    # create training and validation data\n",
        "    val_idx = int(len(data)*(1-val_frac))\n",
        "    data, val_data = data[:val_idx], data[val_idx:]\n",
        "    \n",
        "    if(train_on_gpu):\n",
        "        net.cuda()\n",
        "    \n",
        "    counter = 0\n",
        "    n_chars = len(net.chars)\n",
        "    for e in range(epochs):\n",
        "        # initialize hidden state\n",
        "        h = net.init_hidden(batch_size)\n",
        "        \n",
        "        for x, y in get_batches(data, batch_size, seq_length):\n",
        "            counter += 1\n",
        "            \n",
        "            # One-hot encode our data and make them Torch tensors\n",
        "            x = one_hot_encode(x, n_chars)\n",
        "            inputs, targets = torch.from_numpy(x), torch.from_numpy(y)\n",
        "            \n",
        "            if(train_on_gpu):\n",
        "                inputs, targets = inputs.cuda(), targets.cuda()\n",
        "\n",
        "            # Creating new variables for the hidden state, otherwise\n",
        "            # we'd backprop through the entire training history\n",
        "            h = tuple([each.data for each in h])\n",
        "\n",
        "            # zero accumulated gradients\n",
        "            net.zero_grad()\n",
        "            \n",
        "            # get the output from the model\n",
        "            output, h = net(inputs, h)\n",
        "            \n",
        "            # calculate the loss and perform backprop\n",
        "            loss = criterion(output, targets.view(batch_size*seq_length).long())\n",
        "            loss.backward()\n",
        "            # `clip_grad_norm` helps prevent the exploding gradient problem in RNNs / LSTMs.\n",
        "            nn.utils.clip_grad_norm_(net.parameters(), clip)\n",
        "            opt.step()\n",
        "            \n",
        "            # loss stats\n",
        "            if counter % print_every == 0:\n",
        "                # Get validation loss\n",
        "                val_h = net.init_hidden(batch_size)\n",
        "                val_losses = []\n",
        "                net.eval()\n",
        "                for x, y in get_batches(val_data, batch_size, seq_length):\n",
        "                    # One-hot encode our data and make them Torch tensors\n",
        "                    x = one_hot_encode(x, n_chars)\n",
        "                    x, y = torch.from_numpy(x), torch.from_numpy(y)\n",
        "                    \n",
        "                    # Creating new variables for the hidden state, otherwise\n",
        "                    # we'd backprop through the entire training history\n",
        "                    val_h = tuple([each.data for each in val_h])\n",
        "                    \n",
        "                    inputs, targets = x, y\n",
        "                    if(train_on_gpu):\n",
        "                        inputs, targets = inputs.cuda(), targets.cuda()\n",
        "\n",
        "                    output, val_h = net(inputs, val_h)\n",
        "                    val_loss = criterion(output, targets.view(batch_size*seq_length).long())\n",
        "                \n",
        "                    val_losses.append(val_loss.item())\n",
        "                \n",
        "                net.train() # reset to train mode after iterationg through validation data\n",
        "                \n",
        "                print(\"Epoch: {}/{}...\".format(e+1, epochs),\n",
        "                      \"Step: {}...\".format(counter),\n",
        "                      \"Loss: {:.4f}...\".format(loss.item()),\n",
        "                      \"Val Loss: {:.4f}\".format(np.mean(val_losses)))\n",
        "                      \n",
        "# Define and print the net\n",
        "n_hidden=512\n",
        "n_layers=3\n",
        "\n",
        "net = CharRNN(chars, n_hidden, n_layers)\n",
        "print(net)\n",
        "\n",
        "# Declaring the hyperparameters\n",
        "batch_size = 128\n",
        "seq_length = 120\n",
        "n_epochs = 30 # start smaller if you are just testing initial behavior\n",
        "\n",
        "# train the model\n",
        "train(net, encoded, epochs=n_epochs, batch_size=batch_size, seq_length=seq_length, lr=0.001, print_every=50)\n",
        "\n",
        "# Saving the model\n",
        "model_name = 'rnn_20_epoch.net'\n",
        "\n",
        "checkpoint = {'n_hidden': net.n_hidden,\n",
        "              'n_layers': net.n_layers,\n",
        "              'state_dict': net.state_dict(),\n",
        "              'tokens': net.chars}\n",
        "\n",
        "with open(model_name, 'wb') as f:\n",
        "    torch.save(checkpoint, f)\n",
        "    \n",
        "# Defining a method to generate the next character\n",
        "def predict(net, char, h=None, top_k=None):\n",
        "        ''' Given a character, predict the next character.\n",
        "            Returns the predicted character and the hidden state.\n",
        "        '''\n",
        "        \n",
        "        # tensor inputs\n",
        "        x = np.array([[net.char2int[char]]])\n",
        "        x = one_hot_encode(x, len(net.chars))\n",
        "        inputs = torch.from_numpy(x)\n",
        "        \n",
        "        if(train_on_gpu):\n",
        "            inputs = inputs.cuda()\n",
        "        \n",
        "        # detach hidden state from history\n",
        "        h = tuple([each.data for each in h])\n",
        "        # get the output of the model\n",
        "        out, h = net(inputs, h)\n",
        "\n",
        "        # get the character probabilities\n",
        "        p = F.softmax(out, dim=1).data\n",
        "        if(train_on_gpu):\n",
        "            p = p.cpu() # move to cpu\n",
        "        \n",
        "        # get top characters\n",
        "        if top_k is None:\n",
        "            top_ch = np.arange(len(net.chars))\n",
        "        else:\n",
        "            p, top_ch = p.topk(top_k)\n",
        "            top_ch = top_ch.numpy().squeeze()\n",
        "        \n",
        "        # select the likely next character with some element of randomness\n",
        "        p = p.numpy().squeeze()\n",
        "        char = np.random.choice(top_ch, p=p/p.sum())\n",
        "        \n",
        "        # return the encoded value of the predicted char and the hidden state\n",
        "        return net.int2char[char], h\n",
        "        \n",
        "# Declaring a method to generate new text\n",
        "def sample(net, size, prime='The', top_k=None):\n",
        "        \n",
        "    if(train_on_gpu):\n",
        "        net.cuda()\n",
        "    else:\n",
        "        net.cpu()\n",
        "    \n",
        "    net.eval() # eval mode\n",
        "    \n",
        "    # First off, run through the prime characters\n",
        "    chars = [ch for ch in prime]\n",
        "    h = net.init_hidden(1)\n",
        "    for ch in prime:\n",
        "        char, h = predict(net, ch, h, top_k=top_k)\n",
        "\n",
        "    chars.append(char)\n",
        "    \n",
        "    # Now pass in the previous character and get a new one\n",
        "    for ii in range(size):\n",
        "        char, h = predict(net, chars[-1], h, top_k=top_k)\n",
        "        chars.append(char)\n",
        "\n",
        "    return ''.join(chars)\n",
        "    \n",
        "# Generating new text\n",
        "print(sample(net, 500, prime='A', top_k=5))"
      ],
      "execution_count": null,
      "outputs": [
        {
          "output_type": "stream",
          "text": [
            "Training on GPU!\n",
            "CharRNN(\n",
            "  (lstm): LSTM(65, 512, num_layers=3, batch_first=True, dropout=0.3)\n",
            "  (dropout): Dropout(p=0.3, inplace=False)\n",
            "  (fc): Linear(in_features=512, out_features=65, bias=True)\n",
            ")\n",
            "Epoch: 1/30... Step: 50... Loss: 3.3265... Val Loss: 3.3495\n",
            "Epoch: 2/30... Step: 100... Loss: 3.3328... Val Loss: 3.3439\n",
            "Epoch: 3/30... Step: 150... Loss: 3.2478... Val Loss: 3.2319\n",
            "Epoch: 4/30... Step: 200... Loss: 3.1750... Val Loss: 3.1468\n",
            "Epoch: 4/30... Step: 250... Loss: 3.0516... Val Loss: 3.0167\n",
            "Epoch: 5/30... Step: 300... Loss: 2.8705... Val Loss: 2.8295\n",
            "Epoch: 6/30... Step: 350... Loss: 2.7658... Val Loss: 2.7401\n",
            "Epoch: 7/30... Step: 400... Loss: 2.7310... Val Loss: 2.6743\n",
            "Epoch: 7/30... Step: 450... Loss: 2.6561... Val Loss: 2.6288\n",
            "Epoch: 8/30... Step: 500... Loss: 2.6094... Val Loss: 2.5900\n",
            "Epoch: 9/30... Step: 550... Loss: 2.5815... Val Loss: 2.5449\n",
            "Epoch: 10/30... Step: 600... Loss: 2.5345... Val Loss: 2.4944\n",
            "Epoch: 10/30... Step: 650... Loss: 2.4377... Val Loss: 2.4214\n",
            "Epoch: 11/30... Step: 700... Loss: 2.3650... Val Loss: 2.3381\n",
            "Epoch: 12/30... Step: 750... Loss: 2.3014... Val Loss: 2.2812\n",
            "Epoch: 13/30... Step: 800... Loss: 2.2318... Val Loss: 2.2425\n",
            "Epoch: 14/30... Step: 850... Loss: 2.2130... Val Loss: 2.2045\n",
            "Epoch: 14/30... Step: 900... Loss: 2.1508... Val Loss: 2.1775\n",
            "Epoch: 15/30... Step: 950... Loss: 2.1314... Val Loss: 2.1497\n",
            "Epoch: 16/30... Step: 1000... Loss: 2.0560... Val Loss: 2.1170\n",
            "Epoch: 17/30... Step: 1050... Loss: 2.0869... Val Loss: 2.0884\n",
            "Epoch: 17/30... Step: 1100... Loss: 2.0507... Val Loss: 2.0624\n",
            "Epoch: 18/30... Step: 1150... Loss: 2.0088... Val Loss: 2.0394\n",
            "Epoch: 19/30... Step: 1200... Loss: 1.9876... Val Loss: 2.0145\n",
            "Epoch: 20/30... Step: 1250... Loss: 1.9643... Val Loss: 1.9884\n",
            "Epoch: 20/30... Step: 1300... Loss: 1.9325... Val Loss: 1.9627\n",
            "Epoch: 21/30... Step: 1350... Loss: 1.9208... Val Loss: 1.9429\n",
            "Epoch: 22/30... Step: 1400... Loss: 1.8788... Val Loss: 1.9252\n",
            "Epoch: 23/30... Step: 1450... Loss: 1.8322... Val Loss: 1.8991\n",
            "Epoch: 24/30... Step: 1500... Loss: 1.8518... Val Loss: 1.8756\n",
            "Epoch: 24/30... Step: 1550... Loss: 1.8043... Val Loss: 1.8619\n",
            "Epoch: 25/30... Step: 1600... Loss: 1.8009... Val Loss: 1.8445\n",
            "Epoch: 26/30... Step: 1650... Loss: 1.7396... Val Loss: 1.8269\n",
            "Epoch: 27/30... Step: 1700... Loss: 1.7588... Val Loss: 1.8053\n",
            "Epoch: 27/30... Step: 1750... Loss: 1.7507... Val Loss: 1.7971\n",
            "Epoch: 28/30... Step: 1800... Loss: 1.7158... Val Loss: 1.7757\n",
            "Epoch: 29/30... Step: 1850... Loss: 1.6963... Val Loss: 1.7642\n",
            "Epoch: 30/30... Step: 1900... Loss: 1.6983... Val Loss: 1.7524\n",
            "Epoch: 30/30... Step: 1950... Loss: 1.6686... Val Loss: 1.7363\n",
            "A the dait is thou and fromery\n",
            "tender him the crivious love of me the preast on thee\n",
            "anch speited the princes. The may of the still. Ard, sir,\n",
            "When I we was this astence of your houghs,\n",
            "To see that store and butter of thy son,\n",
            "What words to may and may and but to steel,\n",
            "And what that was them world seed them falling.\n",
            "\n",
            "KING RICHARD II:\n",
            "She mean the strange of hindel so misered to them his\n",
            "shome ipter thou hisess for the caunter sing;\n",
            "And his my best terpirish the seatest,\n",
            "Thon hath that shouldse th\n"
          ],
          "name": "stdout"
        }
      ]
    }
  ]
}